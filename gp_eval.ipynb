{
 "cells": [
  {
   "cell_type": "code",
   "execution_count": 16,
   "metadata": {},
   "outputs": [],
   "source": [
    "import jax\n",
    "jax.config.update(\"jax_enable_x64\", True)\n",
    "import jax.numpy as jnp\n",
    "from jax.numpy.linalg import slogdet\n",
    "from jax.scipy.stats import multivariate_normal as mvtn\n",
    "import matplotlib.pyplot as plt\n",
    "import numpy as np\n",
    "from t import t_logpdf\n",
    "from tqdm import tqdm"
   ]
  },
  {
   "cell_type": "code",
   "execution_count": 17,
   "metadata": {},
   "outputs": [],
   "source": [
    "def rbf_kernel(X1: jnp.ndarray,\n",
    "                X2: jnp.ndarray,\n",
    "                lengthscale: float) -> jnp.ndarray:\n",
    "    sqdist = jnp.sum((X1[:, None, :] - X2[None, :, :]) ** 2, axis=-1)\n",
    "    return jnp.exp(-0.5 * sqdist / (lengthscale ** 2))"
   ]
  },
  {
   "cell_type": "code",
   "execution_count": 18,
   "metadata": {},
   "outputs": [],
   "source": [
    "# GP model\n",
    "\n",
    "def log_pdf(y, X, lengthscale, amplitude, beta):\n",
    "    return mvtn.logpdf(y, X @ beta, amplitude**2 * rbf_kernel(X, X, lengthscale))\n",
    "\n",
    "def sample(key, X, lengthscale, amplitude, beta):\n",
    "    return jax.random.multivariate_normal(key, X @ beta, amplitude**2 * rbf_kernel(X, X, lengthscale))"
   ]
  },
  {
   "cell_type": "code",
   "execution_count": 19,
   "metadata": {},
   "outputs": [],
   "source": [
    "# we are working with a fixed lengthscale\n",
    "lengthscale = 1.0"
   ]
  },
  {
   "cell_type": "code",
   "execution_count": 20,
   "metadata": {},
   "outputs": [],
   "source": [
    "from jax.numpy.linalg import inv\n",
    "\n",
    "# dof=n-p for right-invariant prior and dof=n for Jeffreys prior\n",
    "def log_pred(yp, Xp, yo, Xo, dof):\n",
    "    n_obs = len(yo)\n",
    "    Xo = jnp.vstack((Xo, Xp))\n",
    "    K = rbf_kernel(Xo, Xo, lengthscale)\n",
    "    K_inv = inv(K)\n",
    "    A = K_inv - K_inv @ Xo @ inv(Xo.T @ K_inv @ Xo) @ Xo.T @ K_inv\n",
    "    Aoo, Aop, Apo, App = A[:n_obs, :n_obs], A[:n_obs, n_obs:], A[n_obs:, :n_obs], A[n_obs:, n_obs:]\n",
    "    App_inv = inv(App)\n",
    "    Sigma = (yo.T @ (Aoo - Aop @ App_inv @ Apo) @ yo / dof) * App_inv\n",
    "    mu = - App_inv @ Apo @ yo\n",
    "    return t_logpdf(yp, mu, Sigma, dof)\n",
    "\n",
    "# dof=n-p for unbiased and dof=n for MLE\n",
    "def log_pred_plug_in(yp, Xp, yo, Xo, dof):\n",
    "    K = rbf_kernel(Xo, Xo, lengthscale)\n",
    "    K_inv = inv(K)\n",
    "    beta_hat = inv(Xo.T @ K_inv @ Xo) @ Xo.T @ K_inv @ yo\n",
    "    amp_hat = jnp.sqrt((yo - Xo @ beta_hat).T @ K_inv @ (yo - Xo @ beta_hat) / dof)\n",
    "    return log_pdf(yp, Xp, lengthscale, amp_hat, beta_hat)"
   ]
  },
  {
   "cell_type": "code",
   "execution_count": null,
   "metadata": {},
   "outputs": [
    {
     "name": "stderr",
     "output_type": "stream",
     "text": [
      "100%|██████████| 4096/4096 [00:25<00:00, 163.43it/s]"
     ]
    },
    {
     "name": "stdout",
     "output_type": "stream",
     "text": [
      "[5.90440357e-01 1.28367098e+00 1.20501732e+05 3.61501651e+05] [36. 36.  0.  0.]\n"
     ]
    },
    {
     "name": "stderr",
     "output_type": "stream",
     "text": [
      "\n"
     ]
    }
   ],
   "source": [
    "# numerically evaluate predictive procedures against knowing true parameters\n",
    "n, p = 3, 2\n",
    "Xot = jax.random.uniform(jax.random.PRNGKey(0), (n, p))\n",
    "Xpt = jax.random.uniform(jax.random.PRNGKey(0), (1, p))\n",
    "# a, b = jnp.array(2, float), jax.random.uniform(jax.random.PRNGKey(42), (p,))\n",
    "a, b = jnp.array(2, float), jnp.array([7, -15], float)\n",
    "\n",
    "@jax.jit\n",
    "def mc_estimate_risk(key, Xo, Xp, amplitude, beta):\n",
    "    X = jnp.vstack((Xo, Xp))\n",
    "    samples = sample(key, X, lengthscale, amplitude, beta)\n",
    "    yo, yp = samples[:n], samples[n:]\n",
    "    # true conditional likelihood\n",
    "    true_pdf = log_pdf(samples, X, lengthscale, amplitude, beta) - log_pdf(yo, Xo, lengthscale, amplitude, beta)\n",
    "    return jnp.array([\n",
    "        true_pdf - log_pred(yp, Xp, yo, Xo, dof=n-p),\n",
    "        true_pdf - log_pred(yp, Xp, yo, Xo, dof=n),\n",
    "        true_pdf - log_pred_plug_in(yp, Xp, yo, Xo, dof=n-p),\n",
    "        true_pdf - log_pred_plug_in(yp, Xp, yo, Xo, dof=n)])\n",
    "\n",
    "samples = 2 ** 16\n",
    "iters = 2 ** 12\n",
    "key = jax.random.PRNGKey(0)\n",
    "scores, nans = jnp.zeros((4,)), jnp.zeros((4,))\n",
    "for i in tqdm(range(iters)):\n",
    "    key_now, key = jax.random.split(key, 2)\n",
    "    keys = jax.random.split(key_now, samples)\n",
    "    results = jax.vmap(mc_estimate_risk, (0, None, None, None, None))(keys, Xot, Xpt, a, b)\n",
    "    scores += jnp.nansum(results, axis=0)\n",
    "    nans += jnp.sum(jnp.isnan(results), axis=0)\n",
    "print(scores / (iters * samples - nans), nans)"
   ]
  }
 ],
 "metadata": {
  "kernelspec": {
   "display_name": "base",
   "language": "python",
   "name": "python3"
  },
  "language_info": {
   "codemirror_mode": {
    "name": "ipython",
    "version": 3
   },
   "file_extension": ".py",
   "mimetype": "text/x-python",
   "name": "python",
   "nbconvert_exporter": "python",
   "pygments_lexer": "ipython3",
   "version": "3.11.5"
  }
 },
 "nbformat": 4,
 "nbformat_minor": 2
}
