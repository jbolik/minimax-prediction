{
 "cells": [
  {
   "cell_type": "code",
   "execution_count": 2,
   "metadata": {},
   "outputs": [
    {
     "name": "stderr",
     "output_type": "stream",
     "text": [
      "/home/jannis/miniconda3/lib/python3.11/site-packages/tqdm/auto.py:21: TqdmWarning: IProgress not found. Please update jupyter and ipywidgets. See https://ipywidgets.readthedocs.io/en/stable/user_install.html\n",
      "  from .autonotebook import tqdm as notebook_tqdm\n"
     ]
    }
   ],
   "source": [
    "import jax\n",
    "jax.config.update(\"jax_enable_x64\", True)\n",
    "import jax.numpy as jnp\n",
    "from jax.numpy.linalg import slogdet\n",
    "from jax.scipy.stats import multivariate_normal as mvtn\n",
    "import matplotlib.pyplot as plt\n",
    "import numpy as np\n",
    "from t import t_logpdf\n",
    "from jax_tqdm import scan_tqdm"
   ]
  },
  {
   "cell_type": "code",
   "execution_count": 3,
   "metadata": {},
   "outputs": [],
   "source": [
    "def rbf_kernel(X1: jnp.ndarray,\n",
    "                X2: jnp.ndarray,\n",
    "                lengthscale: float) -> jnp.ndarray:\n",
    "    sqdist = jnp.sum((X1[:, None, :] - X2[None, :, :]) ** 2, axis=-1)\n",
    "    return jnp.exp(-0.5 * sqdist / (lengthscale ** 2))"
   ]
  },
  {
   "cell_type": "code",
   "execution_count": 4,
   "metadata": {},
   "outputs": [],
   "source": [
    "# GP model\n",
    "\n",
    "def log_pdf(y, X, lengthscale, amplitude, beta):\n",
    "    return mvtn.logpdf(y, X @ beta, amplitude**2 * rbf_kernel(X, X, lengthscale))\n",
    "\n",
    "def sample(key, X, lengthscale, amplitude, beta):\n",
    "    return jax.random.multivariate_normal(key, X @ beta, amplitude**2 * rbf_kernel(X, X, lengthscale))"
   ]
  },
  {
   "cell_type": "code",
   "execution_count": 5,
   "metadata": {},
   "outputs": [],
   "source": [
    "# we are working with a fixed lengthscale\n",
    "lengthscale = 1.0"
   ]
  },
  {
   "cell_type": "code",
   "execution_count": 6,
   "metadata": {},
   "outputs": [],
   "source": [
    "from jax.numpy.linalg import inv\n",
    "\n",
    "# dof=n-p for right-invariant prior and dof=n for Jeffreys prior\n",
    "def log_pred(yp, Xp, yo, Xo, dof):\n",
    "    n_obs = len(yo)\n",
    "    Xo = jnp.vstack((Xo, Xp))\n",
    "    K = rbf_kernel(Xo, Xo, lengthscale)\n",
    "    K_inv = inv(K)\n",
    "    A = K_inv - K_inv @ Xo @ inv(Xo.T @ K_inv @ Xo) @ Xo.T @ K_inv\n",
    "    Aoo, Aop, Apo, App = A[:n_obs, :n_obs], A[:n_obs, n_obs:], A[n_obs:, :n_obs], A[n_obs:, n_obs:]\n",
    "    App_inv = inv(App)\n",
    "    Sigma = (yo.T @ (Aoo - Aop @ App_inv @ Apo) @ yo / dof) * App_inv\n",
    "    mu = - App_inv @ Apo @ yo\n",
    "    return t_logpdf(yp, mu, Sigma, dof)\n",
    "\n",
    "# dof=n-p for unbiased and dof=n for MLE\n",
    "def log_pred_plug_in(yp, Xp, yo, Xo, dof):\n",
    "    K = rbf_kernel(Xo, Xo, lengthscale)\n",
    "    K_inv = inv(K)\n",
    "    beta_hat = inv(Xo.T @ K_inv @ Xo) @ Xo.T @ K_inv @ yo\n",
    "    amp_hat = jnp.sqrt((yo - Xo @ beta_hat).T @ K_inv @ (yo - Xo @ beta_hat) / dof)\n",
    "    return log_pdf(yp, Xp, lengthscale, amp_hat, beta_hat)"
   ]
  },
  {
   "cell_type": "code",
   "execution_count": null,
   "metadata": {},
   "outputs": [
    {
     "data": {
      "image/png": "[encoded data removed]",
      "text/plain": [
       "<Figure size 640x480 with 1 Axes>"
      ]
     },
     "metadata": {},
     "output_type": "display_data"
    }
   ],
   "source": [
    "# generate and visualize data\n",
    "n, p = 10, 3\n",
    "key_Xot, key_Xpt, key_mc = jax.random.split(jax.random.PRNGKey(0), 3)\n",
    "Xot = jax.random.uniform(key_Xot, (10, p))[:n, :]\n",
    "Xot = Xot.at[:, -1].set(1)  # add intercept\n",
    "plt.scatter(Xot[:, 0], Xot[:, 1], label='observed', color='blue')\n",
    "Xpt = jax.random.uniform(key_Xpt, (1, p))\n",
    "Xpt = Xpt.at[:, -1].set(1)  # add intercept\n",
    "plt.scatter(Xpt[:, 0], Xpt[:, 1], label='predictive', color='red')\n",
    "# label scattered points with their index\n",
    "for i in range(n):\n",
    "    plt.annotate(str(i), (Xot[i, 0], Xot[i, 1]), fontsize=8, ha='right', va='bottom')\n",
    "plt.xlim(0, 1)\n",
    "plt.ylim(0, 1)\n",
    "# square plot\n",
    "plt.gca().set_aspect('equal', adjustable='box')\n",
    "plt.show()"
   ]
  },
  {
   "cell_type": "code",
   "execution_count": null,
   "metadata": {},
   "outputs": [
    {
     "data": {
      "image/png": "[encoded data removed]",
      "text/plain": [
       "<Figure size 640x480 with 1 Axes>"
      ]
     },
     "metadata": {},
     "output_type": "display_data"
    },
    {
     "name": "stderr",
     "output_type": "stream",
     "text": [
      "Running for 65,536 iterations:   0%|          | 0/65536 [00:00<?, ?it/s]"
     ]
    }
   ],
   "source": [
    "# numerically evaluate predictive procedures against knowing true parameters\n",
    "\n",
    "# parameters (should not affect the results)\n",
    "# a, b = jnp.array(2, float), jax.random.uniform(jax.random.PRNGKey(42), (p,))\n",
    "# a, b = jnp.array(20, float), jnp.array([-7, 5, 2], float)\n",
    "a, b = jnp.array(1, float), jnp.array([7, 8, 3], float)\n",
    "\n",
    "@jax.jit\n",
    "def mc_estimate_risk(key, Xo, Xp, amplitude, beta):\n",
    "    X = jnp.vstack((Xo, Xp))\n",
    "    samples = sample(key, X, lengthscale, amplitude, beta)\n",
    "    yo, yp = samples[:n], samples[n:]\n",
    "    # true conditional likelihood\n",
    "    true_pdf = log_pdf(samples, X, lengthscale, amplitude, beta) - log_pdf(yo, Xo, lengthscale, amplitude, beta)\n",
    "    return jnp.array([\n",
    "        # true_pdf,\n",
    "        # true_pdf - log_pred(yp, Xp, yo, Xo, dof=n-p),\n",
    "        # true_pdf - log_pred(yp, Xp, yo, Xo, dof=n),\n",
    "        true_pdf - log_pred_plug_in(yp, Xp, yo, Xo, dof=n-p),\n",
    "        true_pdf - log_pred_plug_in(yp, Xp, yo, Xo, dof=n)])\n",
    "\n",
    "samples = 2 ** 16\n",
    "iters = 2 ** 12\n",
    "\n",
    "@scan_tqdm(iters)\n",
    "def step(key, iter):\n",
    "    key_now, key = jax.random.split(key, 2)\n",
    "    keys = jax.random.split(key_now, samples)\n",
    "    results = jax.vmap(mc_estimate_risk, (0, None, None, None, None))(keys, Xot, Xpt, a, b)\n",
    "    mc_mean = jnp.nanmean(results, axis=0) \n",
    "    nans = jnp.sum(jnp.isnan(results), axis=0)\n",
    "    return key, (iter, mc_mean, nans)\n",
    "_, (_, mc_means, nans) = jax.lax.scan(step, key_mc, jnp.arange(iters))\n",
    "print(jnp.mean(mc_means, axis=0), jnp.sqrt(jnp.nanvar(mc_means, axis=0, ddof=1) / iters), jnp.sum(nans, axis=0))"
   ]
  },
  {
   "cell_type": "markdown",
   "metadata": {},
   "source": [
    "n=4 Running for 4,096 iterations: 100%|██████████| 4096/4096 [00:25<00:00, 160.82it/s]\n",
    "[5.93776229e-01 1.81480577e+00 6.29701052e+03 2.51732644e+04] [6.00569421e-05 2.14062684e-04 3.72533356e+03 1.49013342e+04] [13766 13766     0     0]\n",
    "\n",
    "n=5 Running for 4,096 iterations: 100%|██████████| 4096/4096 [00:30<00:00, 135.94it/s]\n",
    "[0.46055812 0.85200079 5.68813504 5.51793252] [5.35540687e-05 1.16985917e-04 5.79757707e-05 6.15127522e-05] [0 0 0 0]\n",
    "\n",
    "n=6 Running for 4,096 iterations: 100%|██████████| 4096/4096 [00:31<00:00, 128.92it/s]\n",
    "[0.32967466 0.52207625 5.8482477  5.69610436] [4.77283311e-05 8.71710751e-05 5.19731104e-05 5.50532659e-05] [0 0 0 0]\n",
    "\n",
    "n=7 Running for 4,096 iterations: 100%|██████████| 4096/4096 [00:32<00:00, 127.10it/s]\n",
    "[0.45854481 0.57301563 6.39545909 6.30407988] [5.14318555e-05 7.88302776e-05 5.28852512e-05 5.74069630e-05] [0 0 0 0]\n",
    "\n",
    "with true_pdf as first entry\n",
    "n=6 [1.92361692 0.32967463 0.52207619 5.8482477  5.69610436] [4.24144205e-05 4.77283263e-05 8.71710611e-05 5.19731104e-05\n",
    " 5.50532659e-05] [0 0 0 0 0]\n",
    "\n",
    "n=7 [2.3647022  0.45854482 0.57301564 6.39545909 6.30407988] [4.34254816e-05 5.14318566e-05 7.88302801e-05 5.28852512e-05\n",
    " 5.74069630e-05] [0 0 0 0 0]\n",
    "\n",
    "n=8 Running for 4,096 iterations: 100%|██████████| 4096/4096 [00:34<00:00, 117.94it/s]\n",
    "[5.98197705 0.24833167 0.32425693 7.04695409 6.96350834] [4.33259408e-05 4.06765289e-05 6.08527188e-05 5.11691341e-05\n",
    " 5.51284920e-05] [0 0 0 0 0]\n",
    "\n",
    "n=9 Running for 4,096 iterations: 100%|██████████| 4096/4096 [00:35<00:00, 115.12it/s]\n",
    "[6.01901074 0.21764962 0.27170005 7.10289887 7.02659744] [4.38401392e-05 3.90504204e-05 5.55597142e-05 5.12387868e-05\n",
    " 5.48180990e-05] [0 0 0 0 0]\n",
    "\n",
    "n=10 Running for 4,096 iterations: 100%|██████████| 4096/4096 [00:36<00:00, 111.71it/s]\n",
    "[6.3344146  0.13203049 0.17249193 7.45269697 7.39185891] [4.31069360e-05 3.10375458e-05 4.42682082e-05 4.97981696e-05\n",
    " 5.33722220e-05] [0 0 0 0 0]0.1320\n",
    "\n",
    "so the likelihood assigned by the predictive procedures improved, it's just that the likelihood we can assign knowing the true parameters improves even more\n",
    "\n",
    "for different params:\n",
    "n=6 [4.9193492  0.32967502 0.52207716 5.8482477  5.69610436] [4.24144205e-05 4.77284147e-05 8.71713414e-05 5.19731104e-05\n",
    " 5.50532659e-05] [0 0 0 0 0]\n",
    "\n",
    "n=7 [5.36043447 0.45854466 0.57301525 6.39545909 6.30407988] [4.34254816e-05 5.14318193e-05 7.88301974e-05 5.28852512e-05\n",
    " 5.74069630e-05] [0 0 0 0 0]\n",
    "So while the true_pdf is not invariant, the difference between different numbers of observations seems to be. The easiest way to show this would be that leaving one sample out when using the true parameters is an invariant predictive procedure. However, as we can see in the independent case in particular, the output clearly does not shift with the observations."
   ]
  }
 ],
 "metadata": {
  "kernelspec": {
   "display_name": "base",
   "language": "python",
   "name": "python3"
  },
  "language_info": {
   "codemirror_mode": {
    "name": "ipython",
    "version": 3
   },
   "file_extension": ".py",
   "mimetype": "text/x-python",
   "name": "python",
   "nbconvert_exporter": "python",
   "pygments_lexer": "ipython3",
   "version": "3.11.5"
  }
 },
 "nbformat": 4,
 "nbformat_minor": 2
}
