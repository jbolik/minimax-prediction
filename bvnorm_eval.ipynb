{
 "cells": [
  {
   "cell_type": "code",
   "execution_count": 1,
   "metadata": {},
   "outputs": [
    {
     "name": "stderr",
     "output_type": "stream",
     "text": [
      "/home/jannis/miniconda3/lib/python3.11/site-packages/tqdm/auto.py:21: TqdmWarning: IProgress not found. Please update jupyter and ipywidgets. See https://ipywidgets.readthedocs.io/en/stable/user_install.html\n",
      "  from .autonotebook import tqdm as notebook_tqdm\n"
     ]
    }
   ],
   "source": [
    "import jax\n",
    "jax.config.update(\"jax_enable_x64\", True)\n",
    "import jax.numpy as jnp\n",
    "from jax.numpy.linalg import slogdet\n",
    "from jax.scipy.stats import multivariate_normal as mvtn\n",
    "import matplotlib.pyplot as plt\n",
    "import numpy as np\n",
    "from t import t_logpdf\n",
    "# from tqdm import tqdm\n",
    "from jax_tqdm import scan_tqdm"
   ]
  },
  {
   "cell_type": "code",
   "execution_count": 2,
   "metadata": {},
   "outputs": [],
   "source": [
    "# bivariate normal model\n",
    "def log_pdf(xp, yp, m, n, a, b, c):\n",
    "    mean = jnp.array([m, n])\n",
    "    U = jnp.array([[a, b], [0, c]])\n",
    "    return mvtn.logpdf(jnp.array([xp, yp]), mean, U @ U.T)\n",
    "\n",
    "def sample(key, m, n, a, b, c):\n",
    "    mean = jnp.array([m, n])\n",
    "    U = jnp.array([[a, b], [0, c]])\n",
    "    return jax.random.multivariate_normal(key, mean, U @ U.T)"
   ]
  },
  {
   "cell_type": "code",
   "execution_count": 3,
   "metadata": {},
   "outputs": [],
   "source": [
    "# predictive procedures\n",
    "@jax.jit\n",
    "def log_pred(xp, yp, x, y):\n",
    "    assert len(x) == len(y)\n",
    "    o = len(y)\n",
    "    cons = jnp.log(o-2) - jnp.log(2*jnp.pi) + (o-1)/2*jnp.log(o+1) - (o-2)/2*jnp.log(o)\n",
    "    ones = jnp.ones((o,))\n",
    "    Gxy1 = jnp.vstack((x, y, ones)) @ jnp.vstack((x, y, ones)).T\n",
    "    Gy1 = jnp.vstack((y, ones)) @ jnp.vstack((y, ones)).T\n",
    "    xp, yp = jnp.hstack((x, xp)), jnp.hstack((y, yp))\n",
    "    onesp = jnp.ones((o + 1,))\n",
    "    Gxy1p = jnp.vstack((xp, yp, onesp)) @ jnp.vstack((xp, yp, onesp)).T\n",
    "    Gy1p = jnp.vstack((yp, onesp)) @ jnp.vstack((yp, onesp)).T\n",
    "    cons_xy = slogdet(Gy1)[1] + (o-2)/2*slogdet(Gxy1)[1]\n",
    "    main = -(o-1)/2*slogdet(Gxy1p)[1] - slogdet(Gy1p)[1]\n",
    "    return cons + cons_xy + main\n",
    "\n",
    "def log_pred_ij(xp, yp, x, y):\n",
    "    assert len(x) == len(y)\n",
    "    n = len(y)\n",
    "    X = jnp.vstack((x, y))\n",
    "    xyp = jnp.array([xp, yp])\n",
    "    mean = jnp.mean(X, 1)\n",
    "    S = (n-1) * jnp.cov(X)\n",
    "    return t_logpdf(xyp, mean, (n+1)*S/(n*(n-2)), n-2)\n",
    "\n",
    "def log_pred_j(xp, yp, x, y):\n",
    "    assert len(x) == len(y)\n",
    "    n = len(y)\n",
    "    X = jnp.vstack((x, y))\n",
    "    xyp = jnp.array([xp, yp])\n",
    "    mean = jnp.mean(X, 1)\n",
    "    S = (n-1) * jnp.cov(X)\n",
    "    return t_logpdf(xyp, mean, (n+1)*S/(n*(n-1)), n-1)\n",
    "\n",
    "@jax.jit\n",
    "def log_pred_plug_in(xp, yp, x, y, ddof):\n",
    "    assert len(x) == len(y)\n",
    "    X = jnp.vstack((x, y))\n",
    "    xyp = jnp.array([xp, yp])\n",
    "    mean = jnp.mean(X, 1)\n",
    "    S = jnp.cov(X, ddof=ddof)\n",
    "    return mvtn.logpdf(xyp, mean, S)"
   ]
  },
  {
   "cell_type": "code",
   "execution_count": 4,
   "metadata": {},
   "outputs": [
    {
     "name": "stderr",
     "output_type": "stream",
     "text": [
      "/home/jannis/miniconda3/lib/python3.11/site-packages/jax/_src/core.py:678: FutureWarning: unhashable type: <class 'jax._src.interpreters.partial_eval.DynamicJaxprTracer'>. Attempting to hash a tracer will lead to an error in a future JAX release.\n",
      "  warnings.warn(\n",
      "/home/jannis/miniconda3/lib/python3.11/site-packages/jax/_src/core.py:678: FutureWarning: unhashable type: <class 'jax._src.interpreters.partial_eval.DynamicJaxprTracer'>. Attempting to hash a tracer will lead to an error in a future JAX release.\n",
      "  warnings.warn(\n",
      "Running for 65,536 iterations: 100%|██████████| 65536/65536 [05:59<00:00, 182.55it/s]\n"
     ]
    },
    {
     "name": "stdout",
     "output_type": "stream",
     "text": [
      "[36.95023718 49.53791713] [1.41085372 1.88113862] [0 0]\n"
     ]
    }
   ],
   "source": [
    "# numerically evaluate predictive procedures against knowing true parameters\n",
    "n_observations = 4\n",
    "@jax.jit\n",
    "def mc_estimate_risk(key, m, n, a, b, c):\n",
    "    samples = jax.vmap(sample, (0, None, None, None, None, None))(jax.random.split(key, n_observations+1), m, n, a, b, c)\n",
    "    xp, yp = samples[0, 0], samples[0, 1]\n",
    "    x, y = samples[1:, 0], samples[1:, 1]\n",
    "    # return log_pred(xp, yp, x, y) - log_pred(yp, xp, y, x)\n",
    "    # return log_pred(xp, yp, x, y) - log_pred_plug_in(xp, yp, x, y)\n",
    "    return jnp.array([\n",
    "        # log_pdf(xp, yp, m, n, a, b, c) - log_pred(xp, yp, x, y),\n",
    "        # log_pdf(xp, yp, m, n, a, b, c) - log_pred_ij(xp, yp, x, y),\n",
    "        # log_pdf(xp, yp, m, n, a, b, c) - log_pred_j(xp, yp, x, y),\n",
    "        log_pdf(xp, yp, m, n, a, b, c) - log_pred_plug_in(xp, yp, x, y, 1),\n",
    "        log_pdf(xp, yp, m, n, a, b, c) - log_pred_plug_in(xp, yp, x, y, 0)])\n",
    "\n",
    "samples = 2 ** 16\n",
    "iters = 2 ** 16\n",
    "\n",
    "@scan_tqdm(iters)\n",
    "def step(key, iter):\n",
    "    key_now, key = jax.random.split(key, 2)\n",
    "    keys = jax.random.split(key_now, samples)\n",
    "    results = jax.vmap(mc_estimate_risk, (0, None, None, None, None, None))(keys, -3, -2, 5, 2, 2)\n",
    "    mc_mean = jnp.nanmean(results, axis=0) \n",
    "    nans = jnp.sum(jnp.isnan(results), axis=0)\n",
    "    return key, (iter, mc_mean, nans)\n",
    "_, (_, mc_means, nans) = jax.lax.scan(step, jax.random.PRNGKey(0), jnp.arange(iters))\n",
    "print(jnp.mean(mc_means, axis=0), jnp.sqrt(jnp.nanvar(mc_means, axis=0, ddof=1) / iters), jnp.sum(nans, axis=0))\n",
    "\n",
    "# print(\"{0:.3g}\".format(jnp.nanmean(result)), \"{0:.3g}\".format(jnp.mean(jnp.isnan(result))))"
   ]
  },
  {
   "cell_type": "markdown",
   "metadata": {},
   "source": [
    "n=3 Running for 4,096 iterations: 100%|██████████| 4096/4096 [03:10<00:00, 21.49it/s]\n",
    "[1.32434955e+00 1.71066847e+00 2.01759125e+00 1.39213200e+09 1.98288696e+09] [9.74781950e-05 1.25510649e-04 1.80948973e-04 9.09908418e+08 1.30709135e+09] [0 1 0 0 1]\n",
    "Running for 65,536 iterations: 100%|██████████| 65536/65536 [05:39<00:00, 193.03it/s]\n",
    "[2.26604883e+09 1.35916353e+09] [1.35979533e+09 4.64351029e+08] [16 19]\n",
    "\n",
    "n=4 Running for 4,096 iterations: 100%|██████████| 4096/4096 [03:15<00:00, 20.93it/s]\n",
    "[ 0.8391027   0.95283004  1.0473921  36.6890154  49.18963443] [7.89219335e-05 8.79552342e-05 1.13357822e-04 3.63729461e+00 4.84972653e+00] [0 0 0 0 0]\n",
    "Running for 65,536 iterations: 100%|██████████| 65536/65536 [05:59<00:00, 182.55it/s]\n",
    "[36.95023718 49.53791713] [1.41085372 1.88113862] [0 0]\n",
    "\n",
    "n=5 Running for 4,096 iterations: 100%|██████████| 4096/4096 [01:05<00:00, 62.24it/s]\n",
    "[0.62021384 0.67316256 0.71880181 3.33573045 4.31238142] [6.87494622e-05 7.37714568e-05 8.98919485e-05 8.27806779e-03 1.03483010e-02] [0 0 0 0 0]\n",
    "\n",
    "n=6 Running for 4,096 iterations: 100%|██████████| 4096/4096 [01:06<00:00, 61.24it/s]\n",
    "[0.49370389 0.52408233 0.55095814 1.56464247 1.96591502] [5.99446749e-05 6.24700095e-05 7.33867474e-05 7.21773957e-04 8.69108897e-04] [0 0 0 0 0]\n",
    "\n",
    "n=7 Running for 4,096 iterations: 100%|██████████| 4096/4096 [01:08<00:00, 59.50it/s]\n",
    "[0.41058143 0.43021788 0.44788926 0.99976261 1.2265033 ] [5.56435790e-05 5.73146566e-05 6.54256602e-05 2.74851656e-04 3.24299130e-04] [0 0 0 0 0]\n",
    "\n",
    "n=8 Running for 4,096 iterations: 100%|██████████| 4096/4096 [01:10<00:00, 57.91it/s]\n",
    "[0.35178936 0.36550335 0.37802397 0.72889725 0.87660843] [4.99253683e-05 5.12718668e-05 5.76997583e-05 1.75167950e-04 2.03526223e-04] [0 0 0 0 0]\n",
    "\n",
    "n=9 Running for 4,096 iterations: 100%|██████████| 4096/4096 [01:12<00:00, 56.86it/s]\n",
    "[0.30781415 0.31790449 0.32722792 0.57099106 0.67541702] [4.81786921e-05 4.91307169e-05 5.45644116e-05 1.32015969e-04 1.51614967e-04] [0 0 0 0 0]\n",
    "\n",
    "n=10 Running for 4,096 iterations: 100%|██████████| 4096/4096 [01:13<00:00, 55.47it/s]\n",
    "[0.2738083  0.28156356 0.28878777 0.4685758  0.54656838] [4.45491908e-05 4.54943621e-05 5.01095417e-05 1.07275034e-04 1.21949541e-04] [0 0 0 0 0]"
   ]
  },
  {
   "cell_type": "code",
   "execution_count": 5,
   "metadata": {},
   "outputs": [
    {
     "data": {
      "image/png": "[encoded data removed]",
      "text/plain": [
       "<Figure size 750x600 with 2 Axes>"
      ]
     },
     "metadata": {},
     "output_type": "display_data"
    }
   ],
   "source": [
    "# visualize the predictive density\n",
    "x = jnp.array([1, 2, 3], float)\n",
    "y = jnp.array([-2, 3, 1], float)\n",
    "X = jnp.vstack((x, y))\n",
    "mean = jnp.mean(X, 1)\n",
    "\n",
    "xpts = np.linspace(-10, 10, 500)\n",
    "ypts = np.linspace(-10, 10, 500)\n",
    "X, Y = np.meshgrid(xpts, ypts)\n",
    "\n",
    "# Compute the function values\n",
    "def f(xp, yp):\n",
    "    return log_pred(xp, yp, x, y)\n",
    "    # uncomment to use the predictive procedure in a different basis\n",
    "    # return log_pred(xp, xp + yp, x, x + y)\n",
    "    # return log_pred(xp + yp, yp, x + y, y)\n",
    "    # return jnp.exp(log_pred(xp, yp, y, x))\n",
    "Z = jax.vmap(jax.vmap(f, (0, 0)), (0, 0))(X, Y)\n",
    "\n",
    "plt.figure(figsize=(7.5, 6))\n",
    "contour = plt.contourf(X, Y, Z, levels=10, cmap='viridis')\n",
    "plt.colorbar(contour, label='log predictive density')\n",
    "\n",
    "plt.scatter(x, y, c='red')\n",
    "plt.show()\n",
    "# plt.savefig('figures/mine_test2.pdf', transparent=True, bbox_inches='tight', pad_inches=0)"
   ]
  }
 ],
 "metadata": {
  "kernelspec": {
   "display_name": "base",
   "language": "python",
   "name": "python3"
  },
  "language_info": {
   "codemirror_mode": {
    "name": "ipython",
    "version": 3
   },
   "file_extension": ".py",
   "mimetype": "text/x-python",
   "name": "python",
   "nbconvert_exporter": "python",
   "pygments_lexer": "ipython3",
   "version": "3.11.5"
  }
 },
 "nbformat": 4,
 "nbformat_minor": 2
}
